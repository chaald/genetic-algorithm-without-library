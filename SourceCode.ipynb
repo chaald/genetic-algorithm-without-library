{
 "cells": [
  {
   "cell_type": "code",
   "execution_count": 1,
   "metadata": {},
   "outputs": [],
   "source": [
    "# Import Library\n",
    "import random\n",
    "import math"
   ]
  },
  {
   "cell_type": "code",
   "execution_count": 2,
   "metadata": {},
   "outputs": [],
   "source": [
    "# Mengisi Parameter\n",
    "pop_size = 50\n",
    "chrom_length = 10\n",
    "x1_min, x1_max = -10, 10\n",
    "x2_min, x2_max = -10, 10\n",
    "max_generations = 100\n",
    "pm = 0.01\n",
    "pc = 0.8"
   ]
  },
  {
   "cell_type": "code",
   "execution_count": 3,
   "metadata": {},
   "outputs": [],
   "source": [
    "# Menginisialisasi Populasi\n",
    "def initialize_population(pop_size, chrom_length):\n",
    "    population = []\n",
    "    for _ in range(pop_size):\n",
    "        chromosome = ''.join(random.choice('01') for _ in range(chrom_length))\n",
    "        population.append(chromosome)\n",
    "    return population"
   ]
  },
  {
   "cell_type": "code",
   "execution_count": 4,
   "metadata": {},
   "outputs": [],
   "source": [
    "# Mengkonversi nilai kromosom\n",
    "def decode_chromosome(chromosome, x1_min, x1_max, x2_min, x2_max):\n",
    "    chrom_length = len(chromosome)\n",
    "    x1_range = x1_max - x1_min\n",
    "    x2_range = x2_max - x2_min\n",
    "    x1_value = x1_min + int(chromosome[:chrom_length // 2], 2) * (x1_range / (2**(chrom_length // 2) - 1))\n",
    "    x2_value = x2_min + int(chromosome[chrom_length // 2:], 2) * (x2_range / (2**(chrom_length // 2) - 1))\n",
    "    return x1_value, x2_value"
   ]
  },
  {
   "cell_type": "code",
   "execution_count": 5,
   "metadata": {},
   "outputs": [],
   "source": [
    "# Fungi matematis permasalahan\n",
    "def function(x1, x2):\n",
    "    return -(math.sin(x1) * math.cos(x2) + 4/5 * math.exp(1 - math.sqrt(x1**2 + x2**2)))\n",
    "\n",
    "# Minimize fitness function\n",
    "def calculate_fitness(x1, x2):\n",
    "    return 1 / function(x1,x2)"
   ]
  },
  {
   "cell_type": "code",
   "execution_count": 6,
   "metadata": {},
   "outputs": [],
   "source": [
    "# Pemilihan orang tua melalui metode turnamen\n",
    "def select_parents_tournament(population, fitness_values):\n",
    "    tournament_size = 5\n",
    "    parents = []\n",
    "    for _ in range(2):\n",
    "        tournament = random.sample(range(len(population)), tournament_size)\n",
    "        tournament_fitness = [fitness_values[i] for i in tournament]\n",
    "        winner = tournament[tournament_fitness.index(max(tournament_fitness))]\n",
    "        parents.append(population[winner])\n",
    "    return parents"
   ]
  },
  {
   "cell_type": "code",
   "execution_count": 7,
   "metadata": {},
   "outputs": [],
   "source": [
    "# Crossover kromosom dengan metode Single-point crossover\n",
    "def crossover(parent1, parent2):\n",
    "    if random.random() < pc:\n",
    "        crossover_point = random.randint(1, len(parent1) - 1)\n",
    "        child1 = parent1[:crossover_point] + parent2[crossover_point:]\n",
    "        child2 = parent2[:crossover_point] + parent1[crossover_point:]\n",
    "        return child1, child2\n",
    "    else:\n",
    "        return parent1, parent2"
   ]
  },
  {
   "cell_type": "code",
   "execution_count": 8,
   "metadata": {},
   "outputs": [],
   "source": [
    "# Mutasi kromosom\n",
    "def mutate(chromosome, mutation_rate):\n",
    "    mutated_chromosome = list(chromosome)\n",
    "    for i in range(len(mutated_chromosome)):\n",
    "        if random.random() < mutation_rate:\n",
    "            mutated_chromosome[i] = '0' if chromosome[i] == '1' else '1'\n",
    "    return ''.join(mutated_chromosome)"
   ]
  },
  {
   "cell_type": "code",
   "execution_count": 9,
   "metadata": {},
   "outputs": [],
   "source": [
    "# Pergantian Generasi\n",
    "def select_survivors(population, fitness_values, pop_size):\n",
    "    combined_population = list(zip(population, fitness_values))\n",
    "    combined_population.sort(key=lambda x: x[1], reverse=False)\n",
    "    return [individual for individual, _ in combined_population[:pop_size]]\n"
   ]
  },
  {
   "cell_type": "code",
   "execution_count": 10,
   "metadata": {},
   "outputs": [
    {
     "name": "stdout",
     "output_type": "stream",
     "text": [
      "Hasil fitness kromosom terbaik: f(x1, x2) = 114.33629667882562 pada x1 = -9.35483870967742, x2 = 4.838709677419354\n"
     ]
    }
   ],
   "source": [
    "# Main Program\n",
    "\n",
    "population = initialize_population(pop_size, chrom_length)\n",
    "\n",
    "# Loopin sampai generasi yang ditentukan\n",
    "for generation in range(max_generations):\n",
    "    fitness_values = []\n",
    "    new_population = []\n",
    "\n",
    "    # Evaluasi fitness populasi\n",
    "    for chromosome in population:\n",
    "        x1, x2 = decode_chromosome(chromosome, x1_min, x1_max, x2_min, x2_max)\n",
    "        fitness = calculate_fitness(x1, x2)\n",
    "        fitness_values.append(fitness)\n",
    "\n",
    "    # Pemilihan orangtua dan crossover\n",
    "    while len(new_population) < pop_size:\n",
    "        parents = select_parents_tournament(population, fitness_values)\n",
    "        child1, child2 = crossover(parents[0], parents[1])\n",
    "        child1 = mutate(child1, pm)\n",
    "        child2 = mutate(child2, pm)\n",
    "        new_population.extend([child1, child2])\n",
    "\n",
    "    # Pergantian generasi\n",
    "    population = select_survivors(new_population, fitness_values, pop_size)\n",
    "\n",
    "# Mendapatkan hasil terbaik\n",
    "best_chromosome = max(population, key=lambda chromosome: calculate_fitness(*decode_chromosome(chromosome, x1_min, x1_max, x2_min, x2_max)))\n",
    "x1_best, x2_best = decode_chromosome(best_chromosome, x1_min, x1_max, x2_min, x2_max)\n",
    "max_value = calculate_fitness(x1_best, x2_best)\n",
    "\n",
    "print(f\"Hasil fitness kromosom terbaik: f(x1, x2) = {max_value} pada x1 = {x1_best}, x2 = {x2_best}\")"
   ]
  }
 ],
 "metadata": {
  "kernelspec": {
   "display_name": "Python 3",
   "language": "python",
   "name": "python3"
  },
  "language_info": {
   "codemirror_mode": {
    "name": "ipython",
    "version": 3
   },
   "file_extension": ".py",
   "mimetype": "text/x-python",
   "name": "python",
   "nbconvert_exporter": "python",
   "pygments_lexer": "ipython3",
   "version": "3.11.2"
  }
 },
 "nbformat": 4,
 "nbformat_minor": 2
}
